{
 "cells": [
  {
   "cell_type": "code",
   "execution_count": 3,
   "metadata": {},
   "outputs": [
    {
     "name": "stdout",
     "output_type": "stream",
     "text": [
      "mental ability Correlation:  -0.14312743651646645\n"
     ]
    }
   ],
   "source": [
    "import math\n",
    "a=[15,26,10,9,15,20,18,11,8,20]\n",
    "b=[128,128,116,124,135,120,126,133,137,127]\n",
    "def mean(x):\n",
    "    sum = 0.0\n",
    "    for i in x:\n",
    "         sum += i\n",
    "    return sum / len(x) \n",
    "    \n",
    "def sampleStandardDeviation(x):\n",
    "    sumv = 0.0\n",
    "    for i in x:\n",
    "         sumv += (i - mean(x))**2\n",
    "    return math.sqrt(sumv/(len(x)-1))\n",
    "\n",
    "def pearson_def(x, y):\n",
    "    scorex = []\n",
    "    scorey = []\n",
    "    for i in x: \n",
    "        scorex.append((i - mean(x))/sampleStandardDeviation(x)) \n",
    "    for j in y:\n",
    "        scorey.append((j - mean(y))/sampleStandardDeviation(y))   \n",
    "    return (sum([i*j for i,j in zip(scorex,scorey)]))/(len(x)-1)\n",
    "\n",
    "\n",
    "print(\"mental ability Correlation: \",pearson_def(a,b))"
   ]
  },
  {
   "cell_type": "code",
   "execution_count": 4,
   "metadata": {},
   "outputs": [
    {
     "name": "stdout",
     "output_type": "stream",
     "text": [
      "stumps and bettle Correlation:  0.9158498450298386\n"
     ]
    }
   ],
   "source": [
    "import math\n",
    "a=[2,2,1,3,4,1,5,3,1,2]\n",
    "b=[10,30,12,24,40,11,56,40,8,14]\n",
    "def mean(x):\n",
    "    sum = 0.0\n",
    "    for i in x:\n",
    "         sum += i\n",
    "    return sum / len(x) \n",
    "    \n",
    "def sampleStandardDeviation(x):\n",
    "    sumv = 0.0\n",
    "    for i in x:\n",
    "         sumv += (i - mean(x))**2\n",
    "    return math.sqrt(sumv/(len(x)-1))\n",
    "\n",
    "def correlation_def(x, y):\n",
    "\n",
    "    scorex = []\n",
    "    scorey = []\n",
    "\n",
    "    for i in x: \n",
    "        scorex.append((i - mean(x))/sampleStandardDeviation(x)) \n",
    "\n",
    "    for j in y:\n",
    "        scorey.append((j - mean(y))/sampleStandardDeviation(y))   \n",
    "    return (sum([i*j for i,j in zip(scorex,scorey)]))/(len(x)-1)\n",
    "\n",
    "print(\"stumps and bettle Correlation: \",correlation_def(a,b))"
   ]
  },
  {
   "cell_type": "code",
   "execution_count": 5,
   "metadata": {},
   "outputs": [
    {
     "name": "stdout",
     "output_type": "stream",
     "text": [
      "hour and gallon Correlation: 5.551115123125783e-17\n"
     ]
    }
   ],
   "source": [
    "import math\n",
    "a=[20,30,40,50,60]\n",
    "b=[57,61,63,61,57]\n",
    "\n",
    "def mean(x):\n",
    "    sum = 0.0\n",
    "    for i in x:\n",
    "         sum += i\n",
    "    return sum / len(x) \n",
    "    \n",
    "def sampleStandardDeviation(x):\n",
    "    sumv = 0.0\n",
    "    for i in x:\n",
    "         sumv += (i - mean(x))**2\n",
    "    return math.sqrt(sumv/(len(x)-1))\n",
    "\n",
    "def correlation_def(x, y):\n",
    "\n",
    "    scorex = []\n",
    "    scorey = []\n",
    "\n",
    "    for i in x: \n",
    "        scorex.append((i - mean(x))/sampleStandardDeviation(x)) \n",
    "\n",
    "    for j in y:\n",
    "        scorey.append((j - mean(y))/sampleStandardDeviation(y))   \n",
    "    return (sum([i*j for i,j in zip(scorex,scorey)]))/(len(x)-1)\n",
    "\n",
    "print(\"hour and gallon Correlation:\",correlation_def(a,b))"
   ]
  },
  {
   "cell_type": "code",
   "execution_count": null,
   "metadata": {},
   "outputs": [],
   "source": []
  }
 ],
 "metadata": {
  "kernelspec": {
   "display_name": "Python 3",
   "language": "python",
   "name": "python3"
  },
  "language_info": {
   "codemirror_mode": {
    "name": "ipython",
    "version": 3
   },
   "file_extension": ".py",
   "mimetype": "text/x-python",
   "name": "python",
   "nbconvert_exporter": "python",
   "pygments_lexer": "ipython3",
   "version": "3.7.1"
  }
 },
 "nbformat": 4,
 "nbformat_minor": 2
}
