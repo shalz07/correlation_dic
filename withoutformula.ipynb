{
 "cells": [
  {
   "cell_type": "code",
   "execution_count": 10,
   "metadata": {},
   "outputs": [
    {
     "name": "stdout",
     "output_type": "stream",
     "text": [
      "   Age  Score\n",
      "0   15    128\n",
      "1   26    128\n",
      "2   10    116\n",
      "3    9    124\n",
      "4   15    135\n",
      "5   20    120\n",
      "6   18    126\n",
      "7   11    133\n",
      "8    8    137\n",
      "9   20    127\n",
      "correlation value:             Age     Score\n",
      "Age    1.000000 -0.143127\n",
      "Score -0.143127  1.000000\n"
     ]
    }
   ],
   "source": [
    "import pandas as pd\n",
    "data={'Age':[15,26,10,9,15,20,18,11,8,20],'Score':[128,128,116,124,135,120,126,133,137,127]}\n",
    "df=pd.DataFrame(data)\n",
    "print(df)\n",
    "corr=df.corr(method='pearson')\n",
    "print(\"correlation value:\",corr)\n",
    "\n"
   ]
  },
  {
   "cell_type": "code",
   "execution_count": 11,
   "metadata": {},
   "outputs": [
    {
     "name": "stdout",
     "output_type": "stream",
     "text": [
      "   stumps  bettle\n",
      "0       2      10\n",
      "1       2      30\n",
      "2       1      12\n",
      "3       3      24\n",
      "4       4      40\n",
      "5       1      11\n",
      "6       5      56\n",
      "7       3      40\n",
      "8       1       8\n",
      "9       2      14\n",
      "correlation value for pearson:          stumps   bettle\n",
      "stumps  1.00000  0.91585\n",
      "bettle  0.91585  1.00000\n"
     ]
    }
   ],
   "source": [
    "import pandas as pd\n",
    "data={'stumps':[2,2,1,3,4,1,5,3,1,2],'bettle':[10,30,12,24,40,11,56,40,8,14]}\n",
    "df=pd.DataFrame(data)\n",
    "print(df)\n",
    "corr=df.corr(method='pearson')\n",
    "print(\"correlation value for pearson:\",corr)"
   ]
  },
  {
   "cell_type": "code",
   "execution_count": 12,
   "metadata": {},
   "outputs": [
    {
     "name": "stdout",
     "output_type": "stream",
     "text": [
      "   hour  gallon\n",
      "0    20      57\n",
      "1    30      61\n",
      "2    40      63\n",
      "3    50      61\n",
      "4    60      57\n",
      "correlation value for pearson:         hour  gallon\n",
      "hour     1.0     0.0\n",
      "gallon   0.0     1.0\n"
     ]
    }
   ],
   "source": [
    "import pandas as pd\n",
    "data={'hour':[20,30,40,50,60],'gallon':[57,61,63,61,57]}\n",
    "df=pd.DataFrame(data)\n",
    "print(df)\n",
    "corr=df.corr(method='pearson')\n",
    "print(\"correlation value for pearson:\",corr)\n"
   ]
  },
  {
   "cell_type": "code",
   "execution_count": null,
   "metadata": {},
   "outputs": [],
   "source": []
  }
 ],
 "metadata": {
  "kernelspec": {
   "display_name": "Python 3",
   "language": "python",
   "name": "python3"
  },
  "language_info": {
   "codemirror_mode": {
    "name": "ipython",
    "version": 3
   },
   "file_extension": ".py",
   "mimetype": "text/x-python",
   "name": "python",
   "nbconvert_exporter": "python",
   "pygments_lexer": "ipython3",
   "version": "3.7.1"
  }
 },
 "nbformat": 4,
 "nbformat_minor": 2
}
